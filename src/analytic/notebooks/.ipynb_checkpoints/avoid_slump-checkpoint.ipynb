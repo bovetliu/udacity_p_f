{
 "cells": [
  {
   "cell_type": "code",
   "execution_count": 2,
   "metadata": {},
   "outputs": [
    {
     "ename": "ImportError",
     "evalue": "No module named 'analytic'",
     "traceback": [
      "\u001b[0;31m---------------------------------------------------------------------------\u001b[0m",
      "\u001b[0;31mImportError\u001b[0m                               Traceback (most recent call last)",
      "\u001b[0;32m<ipython-input-2-c13aceb65437>\u001b[0m in \u001b[0;36m<module>\u001b[0;34m()\u001b[0m\n\u001b[1;32m      8\u001b[0m \u001b[0;34m\u001b[0m\u001b[0m\n\u001b[1;32m      9\u001b[0m \u001b[0;34m\u001b[0m\u001b[0m\n\u001b[0;32m---> 10\u001b[0;31m \u001b[0;32mfrom\u001b[0m \u001b[0manalytic\u001b[0m \u001b[0;32mimport\u001b[0m \u001b[0mutility\u001b[0m\u001b[0;34m,\u001b[0m \u001b[0mperformance\u001b[0m\u001b[0;34m,\u001b[0m \u001b[0mta_indicators\u001b[0m\u001b[0;34m,\u001b[0m \u001b[0mhmm_strategy\u001b[0m\u001b[0;34m,\u001b[0m \u001b[0mmath_formula\u001b[0m\u001b[0;34m,\u001b[0m \u001b[0mstatistics\u001b[0m\u001b[0;34m,\u001b[0m \u001b[0mvisual\u001b[0m\u001b[0;34m\u001b[0m\u001b[0m\n\u001b[0m\u001b[1;32m     11\u001b[0m \u001b[0;34m\u001b[0m\u001b[0m\n\u001b[1;32m     12\u001b[0m \u001b[0;32mimport\u001b[0m \u001b[0mmath\u001b[0m\u001b[0;34m\u001b[0m\u001b[0m\n",
      "\u001b[0;31mImportError\u001b[0m: No module named 'analytic'"
     ],
     "output_type": "error"
    }
   ],
   "source": [
    "import numpy as np\n",
    "from hmmlearn import hmm\n",
    "import warnings\n",
    "from sklearn import neighbors, preprocessing\n",
    "import pandas as pd\n",
    "import seaborn as sns\n",
    "import pprint\n",
    "\n",
    "\n",
    "from analytic import utility, performance, ta_indicators, hmm_strategy, math_formula, statistics, visual\n",
    "\n",
    "import math\n",
    "from matplotlib import cm\n",
    "from matplotlib import pyplot as plt\n",
    "import statsmodels.api as sm\n",
    "import statsmodels.tsa.stattools as ts\n",
    "from scipy import stats"
   ]
  },
  {
   "cell_type": "code",
   "execution_count": 4,
   "metadata": {},
   "outputs": [
    {
     "ename": "NameError",
     "evalue": "name 'utility' is not defined",
     "traceback": [
      "\u001b[0;31m---------------------------------------------------------------------------\u001b[0m",
      "\u001b[0;31mNameError\u001b[0m                                 Traceback (most recent call last)",
      "\u001b[0;32m<ipython-input-4-1e3bfda4adfe>\u001b[0m in \u001b[0;36m<module>\u001b[0;34m()\u001b[0m\n\u001b[1;32m      1\u001b[0m \u001b[0msymbols\u001b[0m \u001b[0;34m=\u001b[0m \u001b[0;34m(\u001b[0m\u001b[0;34m'AMAT'\u001b[0m\u001b[0;34m,\u001b[0m \u001b[0;34m)\u001b[0m\u001b[0;34m\u001b[0m\u001b[0m\n\u001b[0;32m----> 2\u001b[0;31m \u001b[0mcsv_files\u001b[0m \u001b[0;34m=\u001b[0m \u001b[0;34m[\u001b[0m\u001b[0mutility\u001b[0m\u001b[0;34m.\u001b[0m\u001b[0mget_appropriate_file\u001b[0m\u001b[0;34m(\u001b[0m\u001b[0msymbol\u001b[0m\u001b[0;34m)\u001b[0m \u001b[0;32mfor\u001b[0m \u001b[0msymbol\u001b[0m \u001b[0;32min\u001b[0m \u001b[0msymbols\u001b[0m\u001b[0;34m]\u001b[0m\u001b[0;34m\u001b[0m\u001b[0m\n\u001b[0m\u001b[1;32m      3\u001b[0m \u001b[0mrequested_col\u001b[0m \u001b[0;34m=\u001b[0m \u001b[0;34m[\u001b[0m\u001b[0;34m'time'\u001b[0m\u001b[0;34m,\u001b[0m \u001b[0;34m'high'\u001b[0m\u001b[0;34m,\u001b[0m \u001b[0;34m'low'\u001b[0m\u001b[0;34m,\u001b[0m \u001b[0;34m'open'\u001b[0m\u001b[0;34m,\u001b[0m \u001b[0;34m'close'\u001b[0m\u001b[0;34m]\u001b[0m\u001b[0;34m\u001b[0m\u001b[0m\n\u001b[1;32m      4\u001b[0m the_df = utility.get_cols_from_csv_names(file_names=csv_files,\n\u001b[1;32m      5\u001b[0m                                          \u001b[0minterested_col\u001b[0m\u001b[0;34m=\u001b[0m\u001b[0mrequested_col\u001b[0m\u001b[0;34m,\u001b[0m\u001b[0;34m\u001b[0m\u001b[0m\n",
      "\u001b[0;32m<ipython-input-4-1e3bfda4adfe>\u001b[0m in \u001b[0;36m<listcomp>\u001b[0;34m(.0)\u001b[0m\n\u001b[1;32m      1\u001b[0m \u001b[0msymbols\u001b[0m \u001b[0;34m=\u001b[0m \u001b[0;34m(\u001b[0m\u001b[0;34m'AMAT'\u001b[0m\u001b[0;34m,\u001b[0m \u001b[0;34m)\u001b[0m\u001b[0;34m\u001b[0m\u001b[0m\n\u001b[0;32m----> 2\u001b[0;31m \u001b[0mcsv_files\u001b[0m \u001b[0;34m=\u001b[0m \u001b[0;34m[\u001b[0m\u001b[0mutility\u001b[0m\u001b[0;34m.\u001b[0m\u001b[0mget_appropriate_file\u001b[0m\u001b[0;34m(\u001b[0m\u001b[0msymbol\u001b[0m\u001b[0;34m)\u001b[0m \u001b[0;32mfor\u001b[0m \u001b[0msymbol\u001b[0m \u001b[0;32min\u001b[0m \u001b[0msymbols\u001b[0m\u001b[0;34m]\u001b[0m\u001b[0;34m\u001b[0m\u001b[0m\n\u001b[0m\u001b[1;32m      3\u001b[0m \u001b[0mrequested_col\u001b[0m \u001b[0;34m=\u001b[0m \u001b[0;34m[\u001b[0m\u001b[0;34m'time'\u001b[0m\u001b[0;34m,\u001b[0m \u001b[0;34m'high'\u001b[0m\u001b[0;34m,\u001b[0m \u001b[0;34m'low'\u001b[0m\u001b[0;34m,\u001b[0m \u001b[0;34m'open'\u001b[0m\u001b[0;34m,\u001b[0m \u001b[0;34m'close'\u001b[0m\u001b[0;34m]\u001b[0m\u001b[0;34m\u001b[0m\u001b[0m\n\u001b[1;32m      4\u001b[0m the_df = utility.get_cols_from_csv_names(file_names=csv_files,\n\u001b[1;32m      5\u001b[0m                                          \u001b[0minterested_col\u001b[0m\u001b[0;34m=\u001b[0m\u001b[0mrequested_col\u001b[0m\u001b[0;34m,\u001b[0m\u001b[0;34m\u001b[0m\u001b[0m\n",
      "\u001b[0;31mNameError\u001b[0m: name 'utility' is not defined"
     ],
     "output_type": "error"
    }
   ],
   "source": [
    "symbols = ('AMAT', )\n",
    "csv_files = [utility.get_appropriate_file(symbol) for symbol in symbols]\n",
    "requested_col = ['time', 'high', 'low', 'open', 'close']\n",
    "the_df = utility.get_cols_from_csv_names(file_names=csv_files,\n",
    "                                         interested_col=requested_col,\n",
    "                                         join_spy_for_data_integrity=False,\n",
    "                                         keep_spy_if_not_having_spy=False)\n",
    "daily_grp = the_df.groupby(pd.Grouper(level=0, freq='1d'))\n",
    "daily_rtn = (daily_grp['AMAT_CLOSE'].last() - daily_grp['AMAT_OPEN'].first()) / daily_grp['AMAT_OPEN'].first()\n",
    "daily_rtn = daily_rtn.dropna()\n",
    "daily_rtn.name = \"AMAT_RTN\"\n",
    "\n",
    "rocp = ta_indicators.get_rocp(the_df['AMAT_CLOSE'], '60s', None, expanding=True)\n",
    "\n",
    "# 2017-11-13  -> 2017-11-20, 2017-11-17 da die\n",
    "rocp_selected = rocp.loc['2017-11-17']\n",
    "\n",
    "# get rolling t-test\n",
    "rocp_mean = rocp.mean()\n",
    "rocp_std = rocp.std()\n",
    "rocp_nobs = len(rocp)\n",
    "\n",
    "pd_timestamp = pd.Timestamp('2017-11-17 10:15:00')\n",
    "# print(rocp_selected.index)\n",
    "print(rocp_selected.loc[rocp_selected.index < pd_timestamp].tail())\n",
    "kwargs = {\n",
    "    \"mean2\": rocp_mean,\n",
    "    \"std2\": rocp_std,\n",
    "    \"nobs2\": rocp_nobs\n",
    "}\n",
    "rolling_pvalue = rocp_selected.rolling(window=10, min_periods=1).apply(statistics.pvalue, kwargs=kwargs)\n",
    "\n",
    "# print(rolling_pvalue)\n",
    "the_df_selected = the_df.loc['2017-11-17']\n",
    "col_name_map = {\n",
    "    'open': 'AMAT_OPEN',\n",
    "    'high': 'AMAT_HIGH',\n",
    "    'low': 'AMAT_LOW',\n",
    "    'close': 'AMAT_CLOSE',\n",
    "}\n",
    "\n",
    "\n",
    "# visual.plot_candles(the_df_selected, col_name_map, title=\"AMAT MIN BARS\")\n",
    "# plt.show()\n",
    "\n",
    "rolling_pvalue.plot()\n",
    "plt.show()\n",
    "\n"
   ]
  },
  {
   "cell_type": "code",
   "execution_count": null,
   "metadata": {},
   "outputs": [],
   "source": []
  }
 ],
 "metadata": {
  "kernelspec": {
   "display_name": "Python 3",
   "language": "python",
   "name": "python3"
  },
  "language_info": {
   "codemirror_mode": {
    "name": "ipython",
    "version": 3
   },
   "file_extension": ".py",
   "mimetype": "text/x-python",
   "name": "python",
   "nbconvert_exporter": "python",
   "pygments_lexer": "ipython3",
   "version": "3.5.2"
  }
 },
 "nbformat": 4,
 "nbformat_minor": 1
}
